{
  "nbformat": 4,
  "nbformat_minor": 0,
  "metadata": {
    "colab": {
      "provenance": []
    },
    "kernelspec": {
      "name": "python3",
      "display_name": "Python 3"
    },
    "accelerator": "GPU"
  },
  "cells": [
    {
      "cell_type": "markdown",
      "metadata": {
        "id": "TlvuqXS5H5rj"
      },
      "source": [
        "Optimalisasi TSP Menggunakan Algoritma Genetika"
      ]
    },
    {
      "cell_type": "markdown",
      "metadata": {
        "id": "YuYsg8XLIA3f"
      },
      "source": [
        "memanggil library"
      ]
    },
    {
      "cell_type": "code",
      "metadata": {
        "id": "dUKJPeefH-j-"
      },
      "source": [
        "import numpy as np\n",
        "import random\n",
        "from array import *"
      ],
      "execution_count": null,
      "outputs": []
    },
    {
      "cell_type": "markdown",
      "metadata": {
        "id": "8laOpsGPIFWd"
      },
      "source": [
        "Membuat daftar kota"
      ]
    },
    {
      "cell_type": "code",
      "metadata": {
        "id": "hkS0WFaXIHc1",
        "outputId": "d39d8d63-193e-4aa6-fe13-a6e72e1aec32",
        "colab": {
          "base_uri": "https://localhost:8080/"
        }
      },
      "source": [
        "daftarKota = [[0,1], [2,4], [5, 7], [3,6],[7,7]]\n",
        "for i in daftarKota:\n",
        "    for j in i:\n",
        "        print(j,end = \" \")\n",
        "    print()\n",
        "\n",
        "jumlahKota =  len(daftarKota)\n",
        "print(jumlahKota)"
      ],
      "execution_count": null,
      "outputs": [
        {
          "output_type": "stream",
          "name": "stdout",
          "text": [
            "0 1 \n",
            "2 4 \n",
            "5 7 \n",
            "3 6 \n",
            "7 7 \n",
            "5\n"
          ]
        }
      ]
    },
    {
      "cell_type": "markdown",
      "metadata": {
        "id": "n-Bh1noVIi72"
      },
      "source": [
        "Inisialisasi Populasi secara acak\n",
        "\n",
        "P diinisialisasi sebagai integer"
      ]
    },
    {
      "cell_type": "code",
      "metadata": {
        "id": "QxceEYDXImIe",
        "outputId": "f3b39e0b-8ca1-4338-b378-47db484410de",
        "colab": {
          "base_uri": "https://localhost:8080/"
        }
      },
      "source": [
        "def initPopulasi(ukuranPopulasi,jumlahKota):\n",
        "  P = np.empty((ukuranPopulasi,jumlahKota))\n",
        "  P = P.astype('int')\n",
        "  for i in range(ukuranPopulasi):\n",
        "    I = np.random.permutation(jumlahKota)\n",
        "    for j in range(jumlahKota):\n",
        "      P[i][j]=I[j]\n",
        "  return P\n",
        "\n",
        "\n",
        "ukuranPopulasi = 4\n",
        "P = initPopulasi (ukuranPopulasi,jumlahKota)\n",
        "print(P)\n",
        "\n"
      ],
      "execution_count": null,
      "outputs": [
        {
          "output_type": "stream",
          "name": "stdout",
          "text": [
            "[[1 0 2 4 3]\n",
            " [1 4 2 0 3]\n",
            " [4 3 2 0 1]\n",
            " [0 1 4 3 2]]\n"
          ]
        }
      ]
    },
    {
      "cell_type": "markdown",
      "metadata": {
        "id": "x41MjO-XWRLC"
      },
      "source": [
        "Membuat fungsi objektif (menentukan nilai fitness populasi)"
      ]
    },
    {
      "cell_type": "code",
      "metadata": {
        "id": "OLnh33iBWUT_",
        "outputId": "b5a62569-ef06-4eed-e944-9944baeffbb4",
        "colab": {
          "base_uri": "https://localhost:8080/"
        }
      },
      "source": [
        "def fungsiObjectif(populasi,daftarKota):\n",
        "  sz = populasi.shape\n",
        "  ukuranPopulasi = sz[0]\n",
        "  jumlahKota = sz[1]\n",
        "\n",
        "  matrikJarak = np.empty((ukuranPopulasi))\n",
        "  matrikJarak  = matrikJarak.astype('float')\n",
        "  n = len(daftarKota)\n",
        "\n",
        "  for i in range(ukuranPopulasi):\n",
        "    jarak = 0\n",
        "    for j in range(n-1):\n",
        "      jrkX = daftarKota[populasi[i][j]][0]-daftarKota[populasi[i][j+1]][0]\n",
        "      jrkY = daftarKota[populasi[i][j]][1]-daftarKota[populasi[i][j+1]][1]\n",
        "      d = np.sqrt(jrkX**2 + jrkY**2 )\n",
        "      jarak = jarak  + d\n",
        "\n",
        "    dn =  np.sqrt((daftarKota[populasi[i][n-1]][0]-daftarKota[populasi[i][0]][0])**2+ (daftarKota[populasi[i][n-1]][1]-daftarKota[populasi[i][0]][1])**2 )\n",
        "    jarak = jarak  + dn\n",
        "    matrikJarak[i] = jarak\n",
        "\n",
        "  return matrikJarak\n",
        "\n",
        "fitP = fungsiObjectif(P,daftarKota)\n",
        "print(fitP)\n",
        "#print(fitP.dtype)\n",
        "\n"
      ],
      "execution_count": null,
      "outputs": [
        {
          "output_type": "stream",
          "name": "stdout",
          "text": [
            "[19.77497455 23.70822144 23.60592645 23.60592645]\n"
          ]
        }
      ]
    },
    {
      "cell_type": "markdown",
      "metadata": {
        "id": "MF5fIQc9YnrR"
      },
      "source": [
        "Proses seleksi menggunakan Metode Tournament\n",
        "\n",
        "Ukuran turnamen k = 2\n",
        "\n",
        "Jumlah induk yang dipilih adalah 2"
      ]
    },
    {
      "cell_type": "code",
      "metadata": {
        "id": "MOPp5lxuRQfe",
        "outputId": "d9f934fd-d93e-4e9b-a79a-078563e9e504",
        "colab": {
          "base_uri": "https://localhost:8080/"
        }
      },
      "source": [
        "\n",
        "def seleksi (P,fsObj):\n",
        "  jmlInduk = 2\n",
        "  sz = P.shape\n",
        "  ukuranPopulasi = sz[0]\n",
        "  jumlahKota = sz[1]\n",
        "\n",
        "  Induk = np.empty((jmlInduk,jumlahKota))\n",
        "  Induk = Induk.astype('int')\n",
        "\n",
        "  for i in range (2):\n",
        "    # memilih dua individu secara acak\n",
        "    r1 = random.randint(0,ukuranPopulasi-1)\n",
        "    r2 = random.randint(0,ukuranPopulasi-1)\n",
        "\n",
        "    if  fsObj[r1] < fsObj [r2]:\n",
        "      for j in range(jumlahKota):\n",
        "        Induk [i][j] = P[r1][j]\n",
        "    else:\n",
        "      for j in range(jumlahKota):\n",
        "        Induk [i][j] = P[r2][j]\n",
        "  return Induk\n",
        "\n",
        "Induk = seleksi(P,fitP)\n",
        "print(Induk)"
      ],
      "execution_count": null,
      "outputs": [
        {
          "output_type": "stream",
          "name": "stdout",
          "text": [
            "[[4 3 2 0 1]\n",
            " [1 4 2 0 3]]\n"
          ]
        }
      ]
    },
    {
      "cell_type": "markdown",
      "metadata": {
        "id": "n5Yn_dEqcguL"
      },
      "source": [
        "Proses crossover menggunakan metode Order Crossover (OX)\n",
        "\n",
        "Jumlah anak yang dihasilkan adalah 2\n"
      ]
    },
    {
      "cell_type": "code",
      "metadata": {
        "id": "lP87dJajWdsX",
        "outputId": "e3d5b101-df5b-4702-fea3-996f3301490f",
        "colab": {
          "base_uri": "https://localhost:8080/"
        }
      },
      "source": [
        "#crossover\n",
        "\n",
        "def OrderXO(Induk):\n",
        "  sz = Induk.shape\n",
        "  brs = sz[0]\n",
        "  kol = sz[1]\n",
        "  #print(sz, brs, kol)\n",
        "\n",
        "  Anak = np.empty((2,kol))\n",
        "  Anak = Anak.astype('int')\n",
        "\n",
        "  r1 = random.randint(1,kol-2)\n",
        "\n",
        "  for i0 in range(r1):\n",
        "\n",
        "    Anak [0][i0] = Induk[0][i0]\n",
        "    Anak [1][i0] = Induk[1][i0]\n",
        "\n",
        "  batasCek1 = r1\n",
        "  batasCek2 = r1\n",
        "\n",
        "  for i in range(kol):\n",
        "    m = (i+r1)%kol\n",
        "\n",
        "    n1 = Induk[0][i]\n",
        "    n2 = Induk[1][i]\n",
        "\n",
        "    #mengecek apakah kota tertentu sudah ada di anak\n",
        "    idxAda1 = 0\n",
        "    idxAda2 = 0\n",
        "    for j1 in range(batasCek1):\n",
        "\n",
        "      if batasCek1>(kol-1):\n",
        "        idxAda1 = 1\n",
        "\n",
        "      if Anak [0][j1] ==n2:\n",
        "        idxAda1 = 1\n",
        "\n",
        "    for j2 in range(batasCek2):\n",
        "\n",
        "      if batasCek2>(kol-1):\n",
        "        idxAda2 = 1\n",
        "\n",
        "      if Anak [1][i0]  == n1:\n",
        "        idxAda2 = 1\n",
        "\n",
        "    if idxAda1 == 0:\n",
        "      Anak[0][batasCek1] = n2\n",
        "      batasCek1 = batasCek1 +1\n",
        "\n",
        "    if idxAda2 == 0:\n",
        "      Anak[1][batasCek2] = n1\n",
        "      batasCek2 = batasCek2 +1\n",
        "\n",
        "  return Anak\n",
        "\n",
        "AnakCX = OrderXO(Induk)\n",
        "print(\"Anak :\",AnakCX)\n"
      ],
      "execution_count": null,
      "outputs": [
        {
          "output_type": "stream",
          "name": "stdout",
          "text": [
            "Anak : [[4 3 2 1 0]\n",
            " [1 4 2 4 3]]\n"
          ]
        }
      ]
    },
    {
      "cell_type": "markdown",
      "metadata": {
        "id": "-5JJRBaEZCcC"
      },
      "source": [
        "Proses mutasi dengan Metode Swap\n",
        "\n",
        "index kota yang diswap pada kedua anak sama"
      ]
    },
    {
      "cell_type": "code",
      "metadata": {
        "id": "9cmy4DZ-ZCu7",
        "outputId": "178971cb-a87c-46c2-95e1-4e767bcd5153",
        "colab": {
          "base_uri": "https://localhost:8080/"
        }
      },
      "source": [
        "def MutasiSwap(Induk):\n",
        "  sz = Induk.shape\n",
        "  brs = sz[0]\n",
        "  kol = sz[1]\n",
        "\n",
        "  Anak = np.empty((2,kol))\n",
        "  Anak = Anak.astype('int')\n",
        "\n",
        "  Anak = Induk\n",
        "\n",
        "  r1 = random.randint(0,kol-1)\n",
        "  r2 = random.randint(0,kol-1)\n",
        "\n",
        "  while r1 == r2:\n",
        "    r2 = random.randint(0,kol-1)\n",
        "\n",
        "  I1rs1 = Induk [0][r1]\n",
        "  I1rs2 = Induk [0][r2]\n",
        "  I2rs1 = Induk [1][r1]\n",
        "  I2rs2 = Induk [1][r2]\n",
        "\n",
        "  Anak [0][r1] = I1rs2\n",
        "  Anak [0][r2] = I1rs1\n",
        "  Anak [1][r1] = I2rs2\n",
        "  Anak [1][r2] = I2rs1\n",
        "\n",
        "  return Anak\n",
        "\n",
        "print(\"AnakCX :\",AnakCX)\n",
        "AnakM = MutasiSwap(AnakCX)\n",
        "print(\"AnakM :\",AnakM)\n"
      ],
      "execution_count": null,
      "outputs": [
        {
          "output_type": "stream",
          "name": "stdout",
          "text": [
            "AnakCX : [[4 3 2 1 0]\n",
            " [1 4 2 4 3]]\n",
            "AnakM : [[4 0 2 1 3]\n",
            " [1 3 2 4 4]]\n"
          ]
        }
      ]
    },
    {
      "cell_type": "markdown",
      "metadata": {
        "id": "TqhipyCpH0qn"
      },
      "source": [
        "Elitism (Individu dengan fitness terbaik akan dipertahankan)"
      ]
    },
    {
      "cell_type": "code",
      "metadata": {
        "id": "EzDjyLGVH2Q3",
        "outputId": "7b7b7bb2-e912-4768-8c0d-f2406385a6a0",
        "colab": {
          "base_uri": "https://localhost:8080/"
        }
      },
      "source": [
        "def Elitism(P,Anak,fitP,fitAnak):\n",
        "  szP = P.shape\n",
        "  brsP = szP[0]\n",
        "  kolP = szP[1]\n",
        "  szA = Anak.shape\n",
        "  brsA = szA[0]\n",
        "  kolA = szA[1]\n",
        "\n",
        "  #print (fitP)\n",
        "  for i in range(brsA):\n",
        "    iJelek = fitP.max()\n",
        "    idxJelek = fitP.argmax()\n",
        "\n",
        "    if fitAnak[i]<iJelek:\n",
        "      fitP[idxJelek] = fitAnak[i]\n",
        "      for j in range (kolP):\n",
        "        P[idxJelek][j] = Anak[i][j]\n",
        "\n",
        "  return [P,fitP]\n",
        "\n",
        "fitAnak= fungsiObjectif(AnakM,daftarKota)\n",
        "print(P)\n",
        "print(AnakM)\n",
        "print(fitP)\n",
        "print(fitAnak)\n",
        "P = Elitism (P,AnakM,fitP,fitAnak)\n",
        "print(P)\n",
        "print(fitP)\n"
      ],
      "execution_count": null,
      "outputs": [
        {
          "output_type": "stream",
          "name": "stdout",
          "text": [
            "[[1 0 2 4 3]\n",
            " [1 4 2 0 3]\n",
            " [4 3 2 0 1]\n",
            " [0 1 4 3 2]]\n",
            "[[4 0 2 1 3]\n",
            " [1 3 2 4 4]]\n",
            "[19.77497455 23.70822144 23.60592645 23.60592645]\n",
            "[27.63160842 12.30308785]\n",
            "[array([[1, 0, 2, 4, 3],\n",
            "       [1, 3, 2, 4, 4],\n",
            "       [4, 3, 2, 0, 1],\n",
            "       [0, 1, 4, 3, 2]]), array([19.77497455, 12.30308785, 23.60592645, 23.60592645])]\n",
            "[19.77497455 12.30308785 23.60592645 23.60592645]\n"
          ]
        }
      ]
    },
    {
      "cell_type": "markdown",
      "metadata": {
        "id": "eGI6G13MCtyR"
      },
      "source": [
        "Prosedur GA"
      ]
    },
    {
      "cell_type": "code",
      "metadata": {
        "id": "Xxsay71_5pFJ",
        "outputId": "b57f2185-98c5-4eb4-fa15-597bac276656",
        "colab": {
          "base_uri": "https://localhost:8080/"
        }
      },
      "source": [
        "# Inisialisasi paramater\n",
        "PCX = 0.7\n",
        "Pm = 0.4\n",
        "ukuranPopulasi = 4\n",
        "max_generasi = 5\n",
        "\n",
        "# Inisialisasi populasi\n",
        "\n",
        "P = initPopulasi (ukuranPopulasi,jumlahKota)\n",
        "print(\"P0 :\",P)\n",
        "\n",
        "#melakukan evaluasi P\n",
        "fitP = fungsiObjectif(P,daftarKota)\n",
        "print(\"fitness populasi awal:\",fitP)\n",
        "\n",
        "print(\"fitness terbaik awal:\",fitP.min())\n",
        "print(\"rute awal :\",P[fitP.argmin()])\n",
        "\n",
        "\n",
        "for i in range(max_generasi):\n",
        "  print(\"generasi :\",i)\n",
        "  Induk = seleksi(P,fitP)\n",
        "  #print(\"Induk :\",Induk)\n",
        "\n",
        "  Anak = Induk\n",
        "\n",
        "  rxo = random.random()\n",
        "\n",
        "  if rxo < PCX:\n",
        "    Anak = OrderXO(Induk)\n",
        "    #print(\"AnakXO :\",Anak)\n",
        "\n",
        "    rm = random.random()\n",
        "    if rm < Pm:\n",
        "      Anak = MutasiSwap(Anak)\n",
        "      #print(\"AnakR :\",Anak)\n",
        "\n",
        "  fitAnak = fungsiObjectif(Anak,daftarKota)\n",
        "  #print(\"fitAnak :\",fitAnak)\n",
        "\n",
        "  print(\"fitness:\",fitAnak.min())\n",
        "\n",
        "  [P, fitP]= Elitism (P,Anak,fitP,fitAnak)\n",
        "\n",
        "print(\"fitness populasi akhir:\",fitP)\n",
        "print(\"fitness akhir:\",fitP.min())\n",
        "print(\"rute akhir :\",P[fitP.argmin()])\n",
        "\n",
        "\n"
      ],
      "execution_count": null,
      "outputs": [
        {
          "output_type": "stream",
          "name": "stdout",
          "text": [
            "P0 : [[1 2 4 3 0]\n",
            " [3 4 2 1 0]\n",
            " [2 4 0 1 3]\n",
            " [2 0 3 1 4]]\n",
            "fitness populasi awal: [19.80224948 19.80224948 19.29723169 23.70822144]\n",
            "fitness terbaik awal: 19.297231687756454\n",
            "rute awal : [2 4 0 1 3]\n",
            "generasi : 0\n",
            "fitness: 19.297231687756454\n",
            "generasi : 1\n",
            "fitness: 19.503523042654383\n",
            "generasi : 2\n",
            "fitness: 19.297231687756454\n",
            "generasi : 3\n",
            "fitness: 19.297231687756454\n",
            "generasi : 4\n",
            "fitness: 19.297231687756454\n",
            "fitness populasi akhir: [19.29723169 19.29723169 19.29723169 19.29723169]\n",
            "fitness akhir: 19.297231687756454\n",
            "rute akhir : [2 4 0 1 3]\n"
          ]
        }
      ]
    }
  ]
}